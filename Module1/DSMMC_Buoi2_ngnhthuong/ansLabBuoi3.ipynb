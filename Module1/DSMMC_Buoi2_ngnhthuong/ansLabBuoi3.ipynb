{
 "cells": [
  {
   "cell_type": "markdown",
   "metadata": {},
   "source": [
    "## EXERCISE 1"
   ]
  },
  {
   "cell_type": "markdown",
   "metadata": {},
   "source": [
    "<h3 id=\"Exercise 1\">Question 1:</h3>\n",
    "\n",
    "<P> Viết chương trình nhập vào một số thực. Đơn vị tính cho số này là centimet (cm). Hãy in ra số tương đương tính bằng foot (số thực, có 2 số lẻ thập phân) và inch (số thực, có 2 số lẻ thập phân). Với 1 inch = 2.54 cm và 1 foot = 12 inches."
   ]
  },
  {
   "cell_type": "code",
   "execution_count": 1,
   "metadata": {},
   "outputs": [
    {
     "name": "stdout",
     "output_type": "stream",
     "text": [
      " 123.4 cm = 3761.2320000000004 foot\n",
      " 123.4 cm = 313.43600000000004 inch\n"
     ]
    }
   ],
   "source": [
    "q1 = float(input('nhap 1 so thuc: '))\n",
    "inch = 2.54\n",
    "foot = 12* inch\n",
    "print(f\" {q1} cm = {q1*foot} foot\")\n",
    "print(f\" {q1} cm = {q1*inch} inch\")"
   ]
  },
  {
   "cell_type": "markdown",
   "metadata": {},
   "source": [
    "<h3 id=\"Exercise 1\">Question 2:</h3>\n",
    "\n",
    "<P> Viết chương trình nhập vào số giây từ 0 tới 68399, đổi số giây này thành dạng [giờ:phút:giây], mỗi thành phần là một số nguyên có 2 chữ số.\n",
    "<P>Ví dụ: 02:11:05"
   ]
  },
  {
   "cell_type": "code",
   "execution_count": 4,
   "metadata": {},
   "outputs": [
    {
     "name": "stdout",
     "output_type": "stream",
     "text": [
      "thời gian 32145s là: 8:55:45\n"
     ]
    }
   ],
   "source": [
    "q2 = int(input(\"nhập số 0 - 68399\"))\n",
    "minute= (q2%3600//60)\n",
    "hour=int(q2//3600)\n",
    "second=((q2%3600%60))\n",
    "print(f'thời gian {q2}s là: [{hour}:{minute}:{second}]')"
   ]
  },
  {
   "cell_type": "markdown",
   "metadata": {},
   "source": [
    "<h3 id=\"Exercise 1\">Question 3:</h3>\n",
    "\n",
    "<P> Viết chương trình nhập vào 4 số nguyên.\n",
    "<P> Hiển thị ra số lớn nhất và nhỏ nhất\n",
    "<P>** Ví dụ: nhập vào 4 số 1,2,3,4 thì kết quả là:\n",
    "<P> Số lớn nhất là: 4\n",
    "<P> Số nhỏ nhất là: 1\n"
   ]
  },
  {
   "cell_type": "code",
   "execution_count": 8,
   "metadata": {},
   "outputs": [
    {
     "name": "stdout",
     "output_type": "stream",
     "text": [
      "['1', '2', '65', '11']\n",
      "số lớn nhất là: 65\n",
      "số nhỏ nhất là: 1\n"
     ]
    }
   ],
   "source": [
    "n1 = input(\"nhập số nguyên 1:\")\n",
    "n2 = input(\"nhập số nguyên 2:\")\n",
    "n3 = input(\"nhập số nguyên 3:\")\n",
    "n4 = input(\"nhập số nguyên 4:\")\n",
    "q3 = [n1, n2, n3, n4]\n",
    "print(q3)\n",
    "min_4n = min(q3)\n",
    "max_4n= max(q3)\n",
    "print(f'số lớn nhất là: {max_4n}')\n",
    "print(f'số nhỏ nhất là: {min_4n}')"
   ]
  },
  {
   "cell_type": "markdown",
   "metadata": {},
   "source": [
    "<h3 id=\"Exercise 1\">Question 4:</h3>\n",
    "<P> Nhập vào hai số tự nhiên a và b. Tính hiệu của hai số đó.\n",
    "<P> Nếu hiệu số lớn hơn 0 thì in ra dòng chữ [Số thứ nhất lớn hơn số thứ hai].\n",
    "<P> Nếu hiệu số nhỏ hơn 0 thì in ra dòng chữ [Số thứ nhất nhỏ hơn số thứ hai].\n"
   ]
  },
  {
   "cell_type": "code",
   "execution_count": 11,
   "metadata": {},
   "outputs": [
    {
     "name": "stdout",
     "output_type": "stream",
     "text": [
      "số thứ nhất (a = 1) nhỏ hơn số thứ hai (b=3)\n"
     ]
    }
   ],
   "source": [
    "a = int(input(\"a= \"))\n",
    "b = int(input(\"b= \"))4\n",
    "\n",
    "q4 = a-b\n",
    "match q4:\n",
    "    case q4 if q4>0:\n",
    "        print(f'số thứ nhất (a = {a}) lớn hơn số thứ hai (b={b})')\n",
    "    case q4 if q4<0:\n",
    "        print(f'số thứ nhất (a = {a}) nhỏ hơn số thứ hai (b={b})')\n",
    "    case _:\n",
    "        print(f'số thứ nhất (a = {a}) bằng số thứ hai (b={b})')    "
   ]
  },
  {
   "cell_type": "markdown",
   "metadata": {},
   "source": [
    "<h3 id=\"Exercise 1\">Question 5:</h3>\n",
    "<P> Nhập vào 2 số tự nhiên a và b. Kiểm tra xem a có chia hết cho b không"
   ]
  },
  {
   "cell_type": "code",
   "execution_count": 3,
   "metadata": {},
   "outputs": [
    {
     "name": "stdout",
     "output_type": "stream",
     "text": [
      "không thể chia cho số 0\n"
     ]
    }
   ],
   "source": [
    "a = int(input(\"a= \"))\n",
    "b = int(input(\"b= \"))\n",
    "if b==0:\n",
    "    print(\"không thể chia cho số 0\")\n",
    "elif a%b==0:\n",
    "    print(f' số {a} chia hết cho số {b}')\n",
    "else:\n",
    "    print(f' số {a} không chia hết cho số {b}')\n"
   ]
  },
  {
   "cell_type": "markdown",
   "metadata": {},
   "source": [
    "<h3 id=\"Exercise 1\">Question 6:</h3>\n",
    "<P> Xếp loại sinh viên theo các quy luật dưới đây:\n",
    "<P>-\tNếu điểm >= 9.0 - Loại xuất sắc\n",
    "<P>-\tNếu 8.0<= điểm < 9.0 - Loại giỏi\n",
    "<P>-\tNếu 7.0<= điểm < 8.0 - Loại khá\n",
    "<P>-    Nếu 6.0 <= điểm < 7.0 - Loại trung bình khá\n",
    "<P>-    Nếu 5.0 <= điểm < 6.0 - Loại trung bình\n",
    "<P>-    Nếu điểm < 5.0 - Loại kém\n",
    "<P> Với điểm = ( (điểm toán)*2 + điểm lý + điểm hóa )/4\n",
    "<P> Viết Chương trình:\n",
    "<P> a. Nhập vào điểm 3 môn học\n",
    "<P> b. Tính điểm trung bình\n",
    "<P> c. Xác định học lực của học sinh dựa trên điểm trung bình\n",
    "<P> d. Hiển thị học lực của học sinh"
   ]
  },
  {
   "cell_type": "code",
   "execution_count": 6,
   "metadata": {},
   "outputs": [
    {
     "name": "stdout",
     "output_type": "stream",
     "text": [
      "Toán = 5.7, Lý = 2.2, Hoá = 9.0\n",
      " Học sinh này có học lực Trung bình với điểm TB là 5.65\n"
     ]
    }
   ],
   "source": [
    "math = float(input(\"nhập số nguyên 1:\"))\n",
    "phys = float(input(\"nhập số nguyên 2:\"))\n",
    "chem = float(input(\"nhập số nguyên 3:\"))\n",
    "q6= ((math*2)+phys+chem)/4\n",
    "print(f\"Toán = {math}, Lý = {phys}, Hoá = {chem}\")\n",
    "if q6>= 9.0:\n",
    "    print(f' Học sinh này có học lực Xuất sắc với điểm TB là {q6}')\n",
    "elif 8.0<=q6< 9.0:\n",
    "    print(f' Học sinh này có học lực Giỏi với điểm TB là {q6}')\n",
    "elif 7.0 <=q6< 8.0:\n",
    "    print(f' Học sinh này có học lực Khá với điểm TB là {q6}')\n",
    "elif 6.0 <=q6< 7.0:\n",
    "    print(f' Học sinh này có học lực Trung bình khá với điểm TB là {q6}')\n",
    "elif 5.0 <=q6< 6.0:\n",
    "    print(f' Học sinh này có học lực Trung bình với điểm TB là {q6}')\n",
    "else:\n",
    "    print(f' Học sinh này có học lực Kém với điểm TB là {q6}')\n",
    "\n",
    "    "
   ]
  },
  {
   "cell_type": "markdown",
   "metadata": {},
   "source": [
    "## EXERCISE 2"
   ]
  },
  {
   "cell_type": "markdown",
   "metadata": {},
   "source": [
    "\n",
    "Hãy viết chương trình tính tổng các chữ số của một số nguyên bất kỳ.\n",
    "Ví dụ: Số 8545604 có tổng các chữ số là: 8+5+4+5+6+0+4= 32"
   ]
  },
  {
   "cell_type": "markdown",
   "metadata": {},
   "source": [
    "\n",
    "Viết chương trình phân tích một số nguyên thành các thừa số nguyên tố\n",
    "Ví dụ: Số 28 được phân tích thành 2 x 2 x 7\n"
   ]
  }
 ],
 "metadata": {
  "kernelspec": {
   "display_name": "Python 3",
   "language": "python",
   "name": "python3"
  },
  "language_info": {
   "codemirror_mode": {
    "name": "ipython",
    "version": 3
   },
   "file_extension": ".py",
   "mimetype": "text/x-python",
   "name": "python",
   "nbconvert_exporter": "python",
   "pygments_lexer": "ipython3",
   "version": "3.12.0"
  }
 },
 "nbformat": 4,
 "nbformat_minor": 2
}
