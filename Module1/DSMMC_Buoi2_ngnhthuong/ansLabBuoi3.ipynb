{
 "cells": [
  {
   "cell_type": "markdown",
   "metadata": {},
   "source": [
    "## EXERCISE 1"
   ]
  },
  {
   "cell_type": "markdown",
   "metadata": {},
   "source": [
    "<h3 id=\"Exercise 1\">Question 1:</h3>\n",
    "\n",
    "<P> Viết chương trình nhập vào một số thực. Đơn vị tính cho số này là centimet (cm). Hãy in ra số tương đương tính bằng foot (số thực, có 2 số lẻ thập phân) và inch (số thực, có 2 số lẻ thập phân). Với 1 inch = 2.54 cm và 1 foot = 12 inches."
   ]
  },
  {
   "cell_type": "code",
   "execution_count": 1,
   "metadata": {},
   "outputs": [
    {
     "name": "stdout",
     "output_type": "stream",
     "text": [
      " 123.4 cm = 3761.2320000000004 foot\n",
      " 123.4 cm = 313.43600000000004 inch\n"
     ]
    }
   ],
   "source": [
    "q1 = float(input('nhap 1 so thuc: '))\n",
    "inch = 2.54\n",
    "foot = 12* inch\n",
    "print(f\" {q1} cm = {q1*foot} foot\")\n",
    "print(f\" {q1} cm = {q1*inch} inch\")"
   ]
  },
  {
   "cell_type": "markdown",
   "metadata": {},
   "source": [
    "<h3 id=\"Exercise 1\">Question 2:</h3>\n",
    "\n",
    "<P> Viết chương trình nhập vào số giây từ 0 tới 68399, đổi số giây này thành dạng [giờ:phút:giây], mỗi thành phần là một số nguyên có 2 chữ số.\n",
    "<P>Ví dụ: 02:11:05"
   ]
  },
  {
   "cell_type": "code",
   "execution_count": 4,
   "metadata": {},
   "outputs": [
    {
     "name": "stdout",
     "output_type": "stream",
     "text": [
      "thời gian 32145s là: 8:55:45\n"
     ]
    }
   ],
   "source": [
    "q2 = int(input(\"nhập số 0 - 68399\"))\n",
    "minute= (q2%3600//60)\n",
    "hour=int(q2//3600)\n",
    "second=((q2%3600%60))\n",
    "print(f'thời gian {q2}s là: [{hour}:{minute}:{second}]')"
   ]
  },
  {
   "cell_type": "markdown",
   "metadata": {},
   "source": [
    "<h3 id=\"Exercise 1\">Question 3:</h3>\n",
    "\n",
    "<P> Viết chương trình nhập vào 4 số nguyên.\n",
    "<P> Hiển thị ra số lớn nhất và nhỏ nhất\n",
    "<P>** Ví dụ: nhập vào 4 số 1,2,3,4 thì kết quả là:\n",
    "<P> Số lớn nhất là: 4\n",
    "<P> Số nhỏ nhất là: 1\n"
   ]
  },
  {
   "cell_type": "code",
   "execution_count": 8,
   "metadata": {},
   "outputs": [
    {
     "name": "stdout",
     "output_type": "stream",
     "text": [
      "['1', '2', '65', '11']\n",
      "số lớn nhất là: 65\n",
      "số nhỏ nhất là: 1\n"
     ]
    }
   ],
   "source": [
    "n1 = input(\"nhập số nguyên 1:\")\n",
    "n2 = input(\"nhập số nguyên 2:\")\n",
    "n3 = input(\"nhập số nguyên 3:\")\n",
    "n4 = input(\"nhập số nguyên 4:\")\n",
    "q3 = [n1, n2, n3, n4]\n",
    "print(q3)\n",
    "min_4n = min(q3)\n",
    "max_4n= max(q3)\n",
    "print(f'số lớn nhất là: {max_4n}')\n",
    "print(f'số nhỏ nhất là: {min_4n}')"
   ]
  },
  {
   "cell_type": "markdown",
   "metadata": {},
   "source": [
    "<h3 id=\"Exercise 1\">Question 4:</h3>\n",
    "<P> Nhập vào hai số tự nhiên a và b. Tính hiệu của hai số đó.\n",
    "<P> Nếu hiệu số lớn hơn 0 thì in ra dòng chữ [Số thứ nhất lớn hơn số thứ hai].\n",
    "<P> Nếu hiệu số nhỏ hơn 0 thì in ra dòng chữ [Số thứ nhất nhỏ hơn số thứ hai].\n"
   ]
  },
  {
   "cell_type": "code",
   "execution_count": 11,
   "metadata": {},
   "outputs": [
    {
     "name": "stdout",
     "output_type": "stream",
     "text": [
      "số thứ nhất (a = 1) nhỏ hơn số thứ hai (b=3)\n"
     ]
    }
   ],
   "source": [
    "a = int(input(\"a= \"))\n",
    "b = int(input(\"b= \"))4\n",
    "\n",
    "q4 = a-b\n",
    "match q4:\n",
    "    case q4 if q4>0:\n",
    "        print(f'số thứ nhất (a = {a}) lớn hơn số thứ hai (b={b})')\n",
    "    case q4 if q4<0:\n",
    "        print(f'số thứ nhất (a = {a}) nhỏ hơn số thứ hai (b={b})')\n",
    "    case _:\n",
    "        print(f'số thứ nhất (a = {a}) bằng số thứ hai (b={b})')    "
   ]
  },
  {
   "cell_type": "markdown",
   "metadata": {},
   "source": [
    "<h3 id=\"Exercise 1\">Question 5:</h3>\n",
    "<P> Nhập vào 2 số tự nhiên a và b. Kiểm tra xem a có chia hết cho b không"
   ]
  },
  {
   "cell_type": "code",
   "execution_count": 3,
   "metadata": {},
   "outputs": [
    {
     "name": "stdout",
     "output_type": "stream",
     "text": [
      "không thể chia cho số 0\n"
     ]
    }
   ],
   "source": [
    "a = int(input(\"a= \"))\n",
    "b = int(input(\"b= \"))\n",
    "if b==0:\n",
    "    print(\"không thể chia cho số 0\")\n",
    "elif a%b==0:\n",
    "    print(f' số {a} chia hết cho số {b}')\n",
    "else:\n",
    "    print(f' số {a} không chia hết cho số {b}')\n"
   ]
  },
  {
   "cell_type": "markdown",
   "metadata": {},
   "source": [
    "<h3 id=\"Exercise 1\">Question 6:</h3>\n",
    "<P> Xếp loại sinh viên theo các quy luật dưới đây:\n",
    "<P>-\tNếu điểm >= 9.0 - Loại xuất sắc\n",
    "<P>-\tNếu 8.0<= điểm < 9.0 - Loại giỏi\n",
    "<P>-\tNếu 7.0<= điểm < 8.0 - Loại khá\n",
    "<P>-    Nếu 6.0 <= điểm < 7.0 - Loại trung bình khá\n",
    "<P>-    Nếu 5.0 <= điểm < 6.0 - Loại trung bình\n",
    "<P>-    Nếu điểm < 5.0 - Loại kém\n",
    "<P> Với điểm = ( (điểm toán)*2 + điểm lý + điểm hóa )/4\n",
    "<P> Viết Chương trình:\n",
    "<P> a. Nhập vào điểm 3 môn học\n",
    "<P> b. Tính điểm trung bình\n",
    "<P> c. Xác định học lực của học sinh dựa trên điểm trung bình\n",
    "<P> d. Hiển thị học lực của học sinh"
   ]
  },
  {
   "cell_type": "code",
   "execution_count": 6,
   "metadata": {},
   "outputs": [
    {
     "name": "stdout",
     "output_type": "stream",
     "text": [
      "Toán = 5.7, Lý = 2.2, Hoá = 9.0\n",
      " Học sinh này có học lực Trung bình với điểm TB là 5.65\n"
     ]
    }
   ],
   "source": [
    "math = float(input(\"nhập số nguyên 1:\"))\n",
    "phys = float(input(\"nhập số nguyên 2:\"))\n",
    "chem = float(input(\"nhập số nguyên 3:\"))\n",
    "q6= ((math*2)+phys+chem)/4\n",
    "print(f\"Toán = {math}, Lý = {phys}, Hoá = {chem}\")\n",
    "if q6>= 9.0:\n",
    "    print(f' Học sinh này có học lực Xuất sắc với điểm TB là {q6}')\n",
    "elif 8.0<=q6< 9.0:\n",
    "    print(f' Học sinh này có học lực Giỏi với điểm TB là {q6}')\n",
    "elif 7.0 <=q6< 8.0:\n",
    "    print(f' Học sinh này có học lực Khá với điểm TB là {q6}')\n",
    "elif 6.0 <=q6< 7.0:\n",
    "    print(f' Học sinh này có học lực Trung bình khá với điểm TB là {q6}')\n",
    "elif 5.0 <=q6< 6.0:\n",
    "    print(f' Học sinh này có học lực Trung bình với điểm TB là {q6}')\n",
    "else:\n",
    "    print(f' Học sinh này có học lực Kém với điểm TB là {q6}')\n",
    "\n",
    "    "
   ]
  },
  {
   "cell_type": "markdown",
   "metadata": {},
   "source": [
    "## EXERCISE 2"
   ]
  },
  {
   "cell_type": "markdown",
   "metadata": {},
   "source": [
    "<h3 id=\"Exercise 2\">Question 1:</h3>\n",
    "<P>Hãy viết chương trình tính tổng các chữ số của một số nguyên bất kỳ.\n",
    "<P>Ví dụ: Số 8545604 có tổng các chữ số là: 8+5+4+5+6+0+4= 32"
   ]
  },
  {
   "cell_type": "code",
   "execution_count": null,
   "metadata": {},
   "outputs": [],
   "source": [
    "def so_nguyen(so_int):\n",
    " \n",
    " q1=0\n",
    " for i in str(so_int):\n",
    "    q1+=int(i)\n",
    " print(f'Tổng các chữ số là {q1}')"
   ]
  },
  {
   "cell_type": "code",
   "execution_count": 45,
   "metadata": {},
   "outputs": [
    {
     "name": "stdout",
     "output_type": "stream",
     "text": [
      "Tổng các chữ số là 15\n"
     ]
    }
   ],
   "source": [
    "so_nguyen(121434)"
   ]
  },
  {
   "cell_type": "markdown",
   "metadata": {},
   "source": [
    "<h3 id=\"Exercise 2\">Question 2:</h3>\n",
    "<P>Viết chương trình phân tích một số nguyên thành các thừa số nguyên tố\n",
    "<P>Ví dụ: Số 28 được phân tích thành 2 x 2 x 7\n"
   ]
  },
  {
   "cell_type": "code",
   "execution_count": 52,
   "metadata": {},
   "outputs": [
    {
     "name": "stdout",
     "output_type": "stream",
     "text": [
      "Thừa số nguyên tố của 1234 là [2, 617]\n"
     ]
    },
    {
     "data": {
      "text/plain": [
       "\"\\nef phan_tich_thua_so_nguyen_to(n):\\n    thua_so_nguyen_to = []\\n    i = 2\\n    while i * i <= n:\\n        if n % i:\\n            i += 1\\n        else:\\n            n //= i\\n            thua_so_nguyen_to.append(i)\\n    if n > 1:\\n        thua_so_nguyen_to.append(n)\\n    return thua_so_nguyen_to\\n\\n# Sử dụng hàm để tìm thừa số nguyên tố của một số nguyên\\nn = 100\\nprint(f'Thừa số nguyên tố của {n} là: {phan_tich_thua_so_nguyen_to(n)}')\\n\""
      ]
     },
     "execution_count": 52,
     "metadata": {},
     "output_type": "execute_result"
    }
   ],
   "source": [
    "def tinhthua_so_nguyen_to(s):\n",
    "    thua_so_nguyen_to=[]\n",
    "    i=2\n",
    "    while i*i<= s:\n",
    "        if s%i:\n",
    "           i+=1\n",
    "        else:\n",
    "            s//=i\n",
    "            thua_so_nguyen_to.append(i)\n",
    "    if s>1:\n",
    "        thua_so_nguyen_to.append(s)\n",
    "    return thua_so_nguyen_to\n",
    "s=1234\n",
    "print(f'Thừa số nguyên tố của {s} là {tinhthua_so_nguyen_to(s)}')\n"
   ]
  },
  {
   "cell_type": "markdown",
   "metadata": {},
   "source": [
    "<h3 id=\"Exercise 2\">Question 3:</h3>\n",
    "Viết chương trình liệt kê tất cả các số nguyên tố nhỏ hơn n cho trước."
   ]
  },
  {
   "cell_type": "code",
   "execution_count": 47,
   "metadata": {},
   "outputs": [
    {
     "name": "stdout",
     "output_type": "stream",
     "text": [
      "Các số nguyên tố là: [2, 3, 5, 7]\n"
     ]
    }
   ],
   "source": [
    "def cac_so_nguyen_to(n):\n",
    "    so_nguyen_to = []\n",
    "    for x in range(2, n):\n",
    "        so_nguyen_to_d = True\n",
    "        for i in range(2, int(x ** 0.5) + 1):\n",
    "\n",
    "            if x % i == 0:\n",
    "                so_nguyen_to_d = False\n",
    "                break\n",
    "        if so_nguyen_to_d:\n",
    "            so_nguyen_to.append(x)\n",
    "    return so_nguyen_to\n",
    "        \n",
    "n = int(input(\"Nhập số n: \"))\n",
    "print(f\"Các số nguyên tố là: {cac_so_nguyen_to(n)}\")\n"
   ]
  },
  {
   "cell_type": "markdown",
   "metadata": {},
   "source": [
    "<h3 id=\"Exercise 2\">Question 4:</h3>\n",
    "Viết chương trình liệt kê n số nguyên tố đầu tiên.\n"
   ]
  },
  {
   "cell_type": "code",
   "execution_count": 31,
   "metadata": {},
   "outputs": [
    {
     "name": "stdout",
     "output_type": "stream",
     "text": [
      "2 số nguyên tố đầu tiên là: [2, 3]\n"
     ]
    }
   ],
   "source": [
    "def la_so_nguyen_to(y):\n",
    "    if y <= 1:\n",
    "        return False\n",
    "    for i in range(2, int(y ** 0.5) + 1):\n",
    "        if y % i == 0:\n",
    "            return False\n",
    "    return True\n",
    "\n",
    "def so_nguyen_to_dau(n):\n",
    "    so_nguyen_to = []\n",
    "    count = 0\n",
    "    y = 2\n",
    "    while count < n:\n",
    "        if la_so_nguyen_to(y):\n",
    "            so_nguyen_to.append(y)\n",
    "            count += 1\n",
    "        y += 1\n",
    "    return so_nguyen_to\n",
    "\n",
    "n = int(input(\"Nhập số n: \"))\n",
    "print(f\"{n} số nguyên tố đầu tiên là: {so_nguyen_to_dau(n)}\")"
   ]
  },
  {
   "cell_type": "markdown",
   "metadata": {},
   "source": [
    "<h3 id=\"Exercise 2\">Question 5:</h3>\n",
    "\n",
    "Viết chương trình tìm ước số chung lớn nhất, bội số chung nhỏ nhất của hai số tự nhiên a và b."
   ]
  },
  {
   "cell_type": "code",
   "execution_count": 38,
   "metadata": {},
   "outputs": [
    {
     "name": "stdout",
     "output_type": "stream",
     "text": [
      "Ước chung lớn nhất của 40 và 12 là 4\n",
      "Bội số chung nhỏ nhất của 40 và 12 là 120\n"
     ]
    }
   ],
   "source": [
    "def ucln(a, b):\n",
    "    while b:\n",
    "        a, b = b, a % b\n",
    "    return a\n",
    "\n",
    "def bscnn(a, b):\n",
    "    return (a * b) // ucln(a, b)\n",
    "a = int(input('Nhập a ='))\n",
    "b = int(input('Nhập b='))\n",
    "print(f'Ước chung lớn nhất của {a} và {b} là {ucln(a,b)}')\n",
    "print(f'Bội số chung nhỏ nhất của {a} và {b} là {bscnn(a,b)}')"
   ]
  },
  {
   "cell_type": "markdown",
   "metadata": {},
   "source": [
    "<h3 id=\"Exercise 2\">Question 6:</h3>\n",
    "<P>Dãy số Fibonacci được định nghĩa như sau:\n",
    "\n",
    "<P>F0 =1, F1 = 1; Fn = Fn-1 + Fn-2 với n>=2.\n",
    "\n",
    "<P>Hãy viết chương trình tìm số Fibonacci thứ n."
   ]
  },
  {
   "cell_type": "code",
   "execution_count": 43,
   "metadata": {},
   "outputs": [
    {
     "name": "stdout",
     "output_type": "stream",
     "text": [
      "Với n=5, ta có dãy số Fibonacci là 3\n"
     ]
    }
   ],
   "source": [
    "def fibonacci(n):\n",
    "    if n <2:\n",
    "        return print('Dãy số Fibonacci phải có số n lớn hơn hoặc bằng 2')\n",
    "    else:\n",
    "        a, b = 0,1\n",
    "        for i in range(2,n):\n",
    "            a,b=b,a+b\n",
    "        return b\n",
    "n = int(input('Nhập số n='))\n",
    "print(f'Với n={n}, ta có dãy số Fibonacci là {fibonacci(n)}')\n",
    "    "
   ]
  },
  {
   "cell_type": "markdown",
   "metadata": {},
   "source": [
    "<h3 id=\"Exercise 2\">Question 7:</h3>\n",
    "<P>Nhập một số tự nhiên n.\n",
    "<P>Hãy liệt kê các số Fibonaci nhỏ hơn n là số nguyên tố"
   ]
  },
  {
   "cell_type": "code",
   "execution_count": 54,
   "metadata": {},
   "outputs": [
    {
     "name": "stdout",
     "output_type": "stream",
     "text": [
      "số Fibonacci nhỏ hơn 32 và là số nguyên tố là: [2, 3, 5, 13]\n"
     ]
    }
   ],
   "source": [
    "def tim_nguyen_to(k):\n",
    "    if k <= 1:\n",
    "        return False\n",
    "    for i in range(2, int(k**0.5) + 1):\n",
    "        if k % i == 0:\n",
    "            return False\n",
    "    return True\n",
    "\n",
    "def fibonacci_nguyen_to(n):\n",
    "    fibonacci_n = []\n",
    "    a, b = 0, 1\n",
    "    while a < n:\n",
    "        if tim_nguyen_to(a):\n",
    "            fibonacci_n.append(a)\n",
    "        a, b = b, a + b\n",
    "    return fibonacci_n\n",
    "\n",
    "n = int(input('Nhập n: '))\n",
    "fibonacci_so_nguyen_to = fibonacci_nguyen_to(n)\n",
    "print(f'số Fibonacci nhỏ hơn {n} và là số nguyên tố là: {fibonacci_so_nguyen_to}')\n"
   ]
  },
  {
   "cell_type": "markdown",
   "metadata": {},
   "source": [
    "<h3 id=\"Exercise 2\">Question 8:</h3>\n",
    "<P>Viết chương trình nhập một số nguyên dương n và thực hiện các chức năng sau:\n",
    "<P>a) Tính tổng các chữ số của n.\n",
    "<P>b) Phân tích n thành các thừa số nguyên tố."
   ]
  },
  {
   "cell_type": "code",
   "execution_count": 60,
   "metadata": {},
   "outputs": [
    {
     "name": "stdout",
     "output_type": "stream",
     "text": [
      "câu a: Tổng các chữ số của 30 là 3\n",
      "Câu b: Thừa số nguyên tố của 30 là [2]\n"
     ]
    }
   ],
   "source": [
    "# câu a\n",
    "def tong_n(n):\n",
    "    tong=0\n",
    "    while n>0:\n",
    "        tong+=n%10\n",
    "        n//=10\n",
    "    return tong\n",
    "\n",
    "def tach_so_nguyen_to(n):\n",
    "    nguyen_to_list=[]\n",
    "    i=2\n",
    "    while i*i<n:\n",
    "        if n%i:\n",
    "            i+=1\n",
    "            return i\n",
    "        else:\n",
    "            n//=i\n",
    "            nguyen_to_list.append(i)\n",
    "            return nguyen_to_list\n",
    "    if n>1:\n",
    "       nguyen_to_list.append(i)\n",
    "n=int(input('nhập n: '))\n",
    "\n",
    "print(f'câu a: Tổng các chữ số của {n} là {tong_n(n)}')\n",
    "print(f'Câu b: Thừa số nguyên tố của {n} là {tach_so_nguyen_to(n)}')"
   ]
  },
  {
   "cell_type": "markdown",
   "metadata": {},
   "source": [
    "<h3 id=\"Exercise 2\">Question 9:</h3>\n",
    "<P>Viết chương trình nhập một số nguyên dương n và thực hiện các chức năng sau:\n",
    "<P>a) Liệt kê các ước số của n. Có bao nhiêu ước số.\n",
    "<P>b) Liệt kê các ước số là nguyên tố của n."
   ]
  },
  {
   "cell_type": "code",
   "execution_count": 71,
   "metadata": {},
   "outputs": [
    {
     "name": "stdout",
     "output_type": "stream",
     "text": [
      "Các ước số của 7 là: [1]\n",
      "Số lượng ước số của 7 là: 1\n",
      "Các ước số nguyên tố của 7 là: <function uoc_so_la_nguyen_to at 0x10bc76020>\n"
     ]
    }
   ],
   "source": [
    "def liet_ke_uoc_so(n):\n",
    "    uoc_so_cua_n = []\n",
    "    uoc_so_nguyen_to = []\n",
    "    for i in range(1, int(n**0.5) + 1):\n",
    "        if n % i == 0:\n",
    "            uoc_so_cua_n.append(i)\n",
    "            if uoc_so_la_nguyen_to(i):\n",
    "                uoc_so_nguyen_to.append(i)\n",
    "            if i != n // i and n // i != n:\n",
    "                uoc_so_cua_n.append(n // i)\n",
    "    return uoc_so_cua_n, uoc_so_nguyen_to\n",
    "\n",
    "def uoc_so_la_nguyen_to(m):\n",
    "    if m<= 1:\n",
    "        return False\n",
    "    for i in range(2, int(m**0.5) + 1):\n",
    "        if m % i == 0:\n",
    "            return False\n",
    "    return True\n",
    "\n",
    "n = int(input('Nhập n: '))\n",
    "\n",
    "uoc_so_cua_n, uoc_so_nguyen_to = liet_ke_uoc_so(n)\n",
    "print(f'Các ước số của {n} là: {uoc_so_cua_n}')\n",
    "print(f'Số lượng ước số của {n} là: {len(uoc_so_cua_n)}')\n",
    "print(f'Các ước số nguyên tố của {n} là: {uoc_so_la_nguyen_to}')"
   ]
  },
  {
   "cell_type": "markdown",
   "metadata": {},
   "source": [
    "<h3 id=\"Exercise 2\">Question 10:</h3>\n",
    "<P>Viết chương trình thực hiện chuẩn hoá một xâu ký tự nhập từ bàn phím (loại bỏ các dấu cách thừa, chuyển ký tự đầu mỗi từ thành chữ hoa, các ký tự khác thành chữ thường)\n"
   ]
  },
  {
   "cell_type": "code",
   "execution_count": 77,
   "metadata": {},
   "outputs": [
    {
     "name": "stdout",
     "output_type": "stream",
     "text": [
      "an com\n",
      "Xâu ký tự sau khi chuẩn hoá: An Com\n"
     ]
    }
   ],
   "source": [
    "def chuan_hoa(kytu):\n",
    "    bd_chuan_hoa = kytu.strip()\n",
    "    bd_chuan_hoa = bd_chuan_hoa.lower()\n",
    "    bd_chuan_hoa = bd_chuan_hoa.title()\n",
    "    return bd_chuan_hoa\n",
    "\n",
    "ky_tu = input(\"Nhập xâu ký tự: \")\n",
    "bd_chuan_hoa = chuan_hoa(ky_tu)\n",
    "\n",
    "print(f'Xâu ký tự sau khi chuẩn hoá: {bd_chuan_hoa}')"
   ]
  },
  {
   "cell_type": "markdown",
   "metadata": {},
   "source": [
    "<h3 id=\"Exercise 2\">Question 11:</h3>\n",
    "<P>Viết chương trình thực hiện nhập một xâu ký tự\n",
    "<P>a) Tìm từ dài nhất trong xâu đó.\n",
    "<P>b) Từ đó xuất hiện ở vị trí nào?\n",
    "<P>(Chú ý. nếu có nhiều từ có độ dài giống nhau thì chọn từ đầu tiên tìm thấy)."
   ]
  },
  {
   "cell_type": "markdown",
   "metadata": {},
   "source": []
  },
  {
   "cell_type": "code",
   "execution_count": 83,
   "metadata": {},
   "outputs": [
    {
     "name": "stdout",
     "output_type": "stream",
     "text": [
      "Từ dài nhất trong xâu \"ta yeu nang\" là: nang\n",
      "Từ đó xuất hiện ở vị trí: 7\n"
     ]
    }
   ],
   "source": [
    "def tu_dai_nhat(kytu):\n",
    "    dai_nhat = ''\n",
    "    for tu in kytu.split():\n",
    "        if len(tu) > len(dai_nhat):\n",
    "            dai_nhat = tu\n",
    "    return dai_nhat\n",
    "\n",
    "def vi_tri_tu(kytu, tu_yc):\n",
    "    vi_tri = kytu.find(tu_yc)\n",
    "    return vi_tri\n",
    "\n",
    "\n",
    "ky_tu = input(\"Nhập xâu ký tự: \")\n",
    "\n",
    "# Tìm từ dài nhất trong xâu\n",
    "dai_nhat = tu_dai_nhat(ky_tu)\n",
    "print(f'Từ dài nhất trong xâu \"{ky_tu}\" là: {dai_nhat}')\n",
    "\n",
    "# Tìm vị trí của từ đó\n",
    "vi_tri = vi_tri_tu(ky_tu, dai_nhat)\n",
    "print(f'Từ đó xuất hiện ở vị trí: {vi_tri}')\n"
   ]
  },
  {
   "cell_type": "markdown",
   "metadata": {},
   "source": [
    "## EXCERSICE 3"
   ]
  },
  {
   "cell_type": "markdown",
   "metadata": {},
   "source": [
    "<h3 id=\"Exercise 3\">Question 1:</h3>\n",
    "</P>Sử dụng for, while, do while để cho ra kết quả a, b, c, d như ảnh\n",
    "\n",
    "</P>https://encrypted-tbn1.gstatic.com/images?q=tbn:ANd9GcTcYE6JOtS0Y5BMQhpi1P4Y0a77lDpOuX1HnBFpk_ONtuyk4Vs9\n"
   ]
  },
  {
   "cell_type": "code",
   "execution_count": 90,
   "metadata": {},
   "outputs": [
    {
     "name": "stdout",
     "output_type": "stream",
     "text": [
      "Hình A\n",
      "\n",
      "*\n",
      "**\n",
      "***\n",
      "****\n",
      "*****\n",
      "******\n",
      "*******\n",
      "********\n",
      "*********\n",
      "**********\n",
      "\n",
      "Hình B\n",
      "***********\n",
      "**********\n",
      "*********\n",
      "********\n",
      "*******\n",
      "******\n",
      "*****\n",
      "****\n",
      "***\n",
      "**\n",
      "*\n",
      "\n"
     ]
    }
   ],
   "source": [
    "n = 0\n",
    "\n",
    "print (\"Hình A\")\n",
    "for x in range (0,11):\n",
    "    n = n + 1\n",
    "    for a in range (0, n-1):\n",
    "        print ('*', end = '')\n",
    "    print()\n",
    "print ('')\n",
    "\n",
    "print (\"Hình B\")\n",
    "for y in range (0,11):\n",
    "    n = n - 1\n",
    "    for b in range (0, n+1):\n",
    "        print ('*', end = '')\n",
    "    print()\n",
    "print ('')\n"
   ]
  },
  {
   "cell_type": "code",
   "execution_count": 91,
   "metadata": {},
   "outputs": [
    {
     "name": "stdout",
     "output_type": "stream",
     "text": [
      "Pattern C\n",
      "***********\n",
      " **********\n",
      "  *********\n",
      "   ********\n",
      "    *******\n",
      "     ******\n",
      "      *****\n",
      "       ****\n",
      "        ***\n",
      "         **\n",
      "          *\n",
      "\n",
      "Pattern D\n",
      "           \n",
      "          *\n",
      "         **\n",
      "        ***\n",
      "       ****\n",
      "      *****\n",
      "     ******\n",
      "    *******\n",
      "   ********\n",
      "  *********\n",
      " **********\n"
     ]
    }
   ],
   "source": [
    "n = 0\n",
    "\n",
    "print (\"Pattern C\")\n",
    "for z in range (11,0,-1):\n",
    "    print((11-z) * ' ' + z * '*')\n",
    "\n",
    "print ('')\n",
    "print (\"Pattern D\")\n",
    "for k in range (11,0,-1):\n",
    "    print(k * ' ' + (11-k) * '*')\n",
    "\n"
   ]
  },
  {
   "cell_type": "markdown",
   "metadata": {},
   "source": [
    "<h3 id=\"Exercise 2\">Question 2:</h3>\n",
    "<P>Viết chương trình tính n! với n là số tự nhiên không âm nhập vào từ bàn phím. Trong đó: 0! = 1 n! = 1.2.3...n"
   ]
  },
  {
   "cell_type": "code",
   "execution_count": 99,
   "metadata": {},
   "outputs": [
    {
     "name": "stdout",
     "output_type": "stream",
     "text": [
      "78! = 11324281178206297831457521158732046228731749579488251990048962825668835325234200766245086213177344000000000000000000\n"
     ]
    }
   ],
   "source": [
    "def tinh_gia_thua(n):\n",
    "    if n == 0:\n",
    "        return 1\n",
    "    else:\n",
    "        return n * tinh_giai_thua(n - 1)\n",
    "n = int(input(\"Nhập n: \"))\n",
    "if n >= 0:\n",
    "    ket_qua = tinh_giai_thua(n)\n",
    "    print(f'{n}! = {ket_qua}')\n",
    "else:\n",
    "    print(\"Vui lòng nhập số nguyên không âm.\")"
   ]
  },
  {
   "cell_type": "markdown",
   "metadata": {},
   "source": []
  }
 ],
 "metadata": {
  "kernelspec": {
   "display_name": "Python 3",
   "language": "python",
   "name": "python3"
  },
  "language_info": {
   "codemirror_mode": {
    "name": "ipython",
    "version": 3
   },
   "file_extension": ".py",
   "mimetype": "text/x-python",
   "name": "python",
   "nbconvert_exporter": "python",
   "pygments_lexer": "ipython3",
   "version": "3.12.0"
  }
 },
 "nbformat": 4,
 "nbformat_minor": 2
}
